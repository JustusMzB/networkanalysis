{
 "cells": [
  {
   "cell_type": "markdown",
   "metadata": {},
   "source": [
    "# Exercise Sheet 1\n",
    "first, we import numpy to efficiently use array operations, and as it is the standard for most scientific applications in Python."
   ]
  },
  {
   "cell_type": "code",
   "execution_count": 18,
   "metadata": {},
   "outputs": [],
   "source": [
    "import numpy as np"
   ]
  },
  {
   "cell_type": "markdown",
   "metadata": {},
   "source": [
    "## Assignment 1\n",
    "We will use an adjacency matrix to represent a graph. With this, we want to implement\n",
    "a) A count of the edges in the graph\n",
    "b) The density of the Network\n",
    "c) in and out degree of each node (put out as an array)\n",
    "    With a parameter called mode that switches between degree, indegree and outdegree\n",
    "d) if the adjacancy-matrix is symmetrical, aka if the graph is undirected or directed.\n",
    "\n",
    "The first step is to find a somewhat agreed on format for the adjacency-matrix. For this, we will import the popular library networkx and view their np representation of graphs"
   ]
  },
  {
   "cell_type": "code",
   "execution_count": 19,
   "metadata": {},
   "outputs": [
    {
     "name": "stdout",
     "output_type": "stream",
     "text": [
      "[[0. 1. 0. 1.]\n",
      " [0. 0. 0. 0.]\n",
      " [0. 0. 0. 1.]\n",
      " [1. 0. 0. 0.]]\n"
     ]
    },
    {
     "data": {
      "image/png": "[encoded data removed]",
      "text/plain": [
       "<Figure size 432x288 with 1 Axes>"
      ]
     },
     "metadata": {},
     "output_type": "display_data"
    }
   ],
   "source": [
    "import networkx as nx\n",
    "\n",
    "digraph = nx.DiGraph()\n",
    "digraph.add_edge(1, 2)\n",
    "digraph.add_edge(3, 4)\n",
    "digraph.add_edge(4, 1)\n",
    "digraph.add_edge(1, 4)\n",
    "\n",
    "print(nx.to_numpy_matrix(digraph))\n",
    "\n",
    "nx.draw_networkx(digraph)"
   ]
  },
  {
   "cell_type": "markdown",
   "metadata": {},
   "source": [
    "Ok, this looks fairly straightforward. We can see that the first index is \n",
    "### Counting edges\n",
    "Now for our first task: Counting the edges. With this non-boolean approach, we can easily do this with a complete sum.\n",
    "I have decided to add another helper function to verify that a matrix can be validly interpreted as an adjacency matrix."
   ]
  },
  {
   "cell_type": "code",
   "execution_count": 20,
   "metadata": {},
   "outputs": [
    {
     "name": "stdout",
     "output_type": "stream",
     "text": [
      "4.0\n"
     ]
    }
   ],
   "source": [
    "def is_adjacency_matrix(nparray):\n",
    "    all_in_one_or_zero = True\n",
    "    for i in np.nditer(nparray):\n",
    "        if i not in [0, 1]:\n",
    "            all_in_one_or_zero = False\n",
    "    quadratic_shape = len(nparray.shape) == 2 and nparray.shape[0] == nparray.shape[1]\n",
    "\n",
    "    return all_in_one_or_zero and quadratic_shape\n",
    "\n",
    "def reject_if_not_ajmatrix(adjacency_matrix):\n",
    "        if not is_adjacency_matrix(adjacency_matrix):\n",
    "            raise ValueError(\"array can't be interpreted as an adjacency matrix.\")\n",
    "def count_edges(adjacency_matrix):\n",
    "    reject_if_not_ajmatrix\n",
    "    return np.sum(adjacency_matrix)\n",
    "\n",
    "adjacency_matrix = nx.to_numpy_matrix(digraph)\n",
    "print(count_edges(adjacency_matrix))"
   ]
  },
  {
   "cell_type": "markdown",
   "metadata": {},
   "source": [
    "### Density\n",
    "The density is the ration of possible edge amount in a graph to actual edge amount in a graph. We assume that we investigate a directed graph. We also add a function for counting vertices."
   ]
  },
  {
   "cell_type": "code",
   "execution_count": 21,
   "metadata": {},
   "outputs": [
    {
     "data": {
      "text/plain": [
       "0.3333333333333333"
      ]
     },
     "execution_count": 21,
     "metadata": {},
     "output_type": "execute_result"
    }
   ],
   "source": [
    "def vertice_count(adjacency_matrix):\n",
    "    reject_if_not_ajmatrix(adjacency_matrix)\n",
    "    return adjacency_matrix.shape[0]\n",
    "\n",
    "def density(adjacency_matrix):\n",
    "    vertice_amount = vertice_count(adjacency_matrix)\n",
    "    return count_edges(adjacency_matrix) / (vertice_amount * (vertice_amount -1))\n",
    "\n",
    "density(adjacency_matrix)"
   ]
  },
  {
   "cell_type": "markdown",
   "metadata": {},
   "source": [
    "### Degrees"
   ]
  },
  {
   "cell_type": "code",
   "execution_count": 32,
   "metadata": {},
   "outputs": [
    {
     "name": "stdout",
     "output_type": "stream",
     "text": [
      "full degrees: [3. 1. 1. 3.]\n",
      "in degrees: [1. 1. 0. 2.]\n",
      "out degrees: [2. 0. 1. 1.]\n"
     ]
    },
    {
     "data": {
      "image/png": "[encoded data removed]",
      "text/plain": [
       "<Figure size 432x288 with 1 Axes>"
      ]
     },
     "metadata": {},
     "output_type": "display_data"
    }
   ],
   "source": [
    "def degrees(matrix, mode=\"degree\"):\n",
    "    validmodes = [\"indegree\", \"outdegree\", \"degree\"]\n",
    "    if mode not in validmodes:\n",
    "        raise ValueError(f\"Invalid mode. Try one of {validmodes}\")\n",
    "    reject_if_not_ajmatrix(matrix)\n",
    "    accumulator = np.zeros((matrix.shape[0]))\n",
    "    for (i, j), value in np.ndenumerate(matrix):\n",
    "        if value > 0:\n",
    "            if mode == \"indegree\":\n",
    "                accumulator[j] += 1\n",
    "            if mode == \"outdegree\":\n",
    "                accumulator[i] += 1\n",
    "            if mode == \"degree\":\n",
    "                accumulator[i] += 1\n",
    "                accumulator[j] += 1\n",
    "    return accumulator\n",
    "\n",
    "print(f'full degrees: {degrees(adjacency_matrix)}')\n",
    "print(f'in degrees: {degrees(adjacency_matrix, mode = \"indegree\")}')\n",
    "print(f'out degrees: {degrees(adjacency_matrix, mode = \"outdegree\")}')\n",
    "nx.draw_networkx(digraph, pos=nx.kamada_kawai_layout(digraph))"
   ]
  },
  {
   "cell_type": "markdown",
   "metadata": {},
   "source": [
    "This looks like it checks out.\n",
    "### Symmetry\n"
   ]
  },
  {
   "cell_type": "markdown",
   "metadata": {},
   "source": []
  }
 ],
 "metadata": {
  "interpreter": {
   "hash": "3067ead486e059ec00ffe7555bdb889e6e264a24dc711bf108106cc7baee8d5d"
  },
  "kernelspec": {
   "display_name": "Python 3.8.12 ('base')",
   "language": "python",
   "name": "python3"
  },
  "language_info": {
   "codemirror_mode": {
    "name": "ipython",
    "version": 3
   },
   "file_extension": ".py",
   "mimetype": "text/x-python",
   "name": "python",
   "nbconvert_exporter": "python",
   "pygments_lexer": "ipython3",
   "version": "3.8.13"
  },
  "orig_nbformat": 4
 },
 "nbformat": 4,
 "nbformat_minor": 2
}
