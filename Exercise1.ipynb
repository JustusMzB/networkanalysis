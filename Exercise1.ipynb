{
 "cells": [
  {
   "cell_type": "markdown",
   "metadata": {},
   "source": [
    "# Exercise Sheet 1\n",
    "first, we import numpy to efficiently use array operations, and as it is the standard for most scientific applications in Python."
   ]
  },
  {
   "cell_type": "code",
   "execution_count": 18,
   "metadata": {},
   "outputs": [],
   "source": [
    "import numpy as np"
   ]
  },
  {
   "cell_type": "markdown",
   "metadata": {},
   "source": [
    "## Assignment 1: General Metrics\n",
    "We will use an adjacency matrix to represent a graph. With this, we want to implement\n",
    "a) A count of the edges in the graph\n",
    "b) The density of the Network\n",
    "c) in and out degree of each node (put out as an array)\n",
    "    With a parameter called mode that switches between degree, indegree and outdegree\n",
    "d) if the adjacancy-matrix is symmetrical, aka if the graph is undirected or directed.\n",
    "\n",
    "The first step is to find a somewhat agreed on format for the adjacency-matrix. For this, we will import the popular library networkx and view their np representation of graphs"
   ]
  },
  {
   "cell_type": "code",
   "execution_count": 19,
   "metadata": {},
   "outputs": [
    {
     "name": "stdout",
     "output_type": "stream",
     "text": [
      "[[0. 1. 0. 1.]\n",
      " [0. 0. 0. 0.]\n",
      " [0. 0. 0. 1.]\n",
      " [1. 0. 0. 0.]]\n"
     ]
    },
    {
     "data": {
      "image/png": "[encoded data removed]",
      "text/plain": [
       "<Figure size 432x288 with 1 Axes>"
      ]
     },
     "metadata": {},
     "output_type": "display_data"
    }
   ],
   "source": [
    "import networkx as nx\n",
    "\n",
    "digraph = nx.DiGraph()\n",
    "digraph.add_edge(1, 2)\n",
    "digraph.add_edge(3, 4)\n",
    "digraph.add_edge(4, 1)\n",
    "digraph.add_edge(1, 4)\n",
    "\n",
    "print(nx.to_numpy_matrix(digraph))\n",
    "\n",
    "nx.draw_networkx(digraph)"
   ]
  },
  {
   "cell_type": "markdown",
   "metadata": {},
   "source": [
    "Ok, this looks fairly straightforward. We can see that the first index is \n",
    "### Counting edges\n",
    "Now for our first task: Counting the edges. With this non-boolean approach, we can easily do this with a complete sum.\n",
    "I have decided to add another helper function to verify that a matrix can be validly interpreted as an adjacency matrix."
   ]
  },
  {
   "cell_type": "code",
   "execution_count": 20,
   "metadata": {},
   "outputs": [
    {
     "name": "stdout",
     "output_type": "stream",
     "text": [
      "4.0\n"
     ]
    }
   ],
   "source": [
    "def is_adjacency_matrix(nparray):\n",
    "    all_in_one_or_zero = True\n",
    "    for i in np.nditer(nparray):\n",
    "        if i not in [0, 1]:\n",
    "            all_in_one_or_zero = False\n",
    "    quadratic_shape = len(nparray.shape) == 2 and nparray.shape[0] == nparray.shape[1]\n",
    "\n",
    "    return all_in_one_or_zero and quadratic_shape\n",
    "\n",
    "def reject_if_not_ajmatrix(adjacency_matrix):\n",
    "        if not is_adjacency_matrix(adjacency_matrix):\n",
    "            raise ValueError(\"array can't be interpreted as an adjacency matrix.\")\n",
    "def count_edges(adjacency_matrix):\n",
    "    reject_if_not_ajmatrix\n",
    "    return np.sum(adjacency_matrix)\n",
    "\n",
    "adjacency_matrix = nx.to_numpy_matrix(digraph)\n",
    "print(count_edges(adjacency_matrix))"
   ]
  },
  {
   "cell_type": "markdown",
   "metadata": {},
   "source": [
    "### Density\n",
    "The density is the ration of possible edge amount in a graph to actual edge amount in a graph. We assume that we investigate a directed graph. We also add a function for counting vertices."
   ]
  },
  {
   "cell_type": "code",
   "execution_count": 21,
   "metadata": {},
   "outputs": [
    {
     "data": {
      "text/plain": [
       "0.3333333333333333"
      ]
     },
     "execution_count": 21,
     "metadata": {},
     "output_type": "execute_result"
    }
   ],
   "source": [
    "def vertice_count(adjacency_matrix):\n",
    "    reject_if_not_ajmatrix(adjacency_matrix)\n",
    "    return adjacency_matrix.shape[0]\n",
    "\n",
    "def density(adjacency_matrix):\n",
    "    vertice_amount = vertice_count(adjacency_matrix)\n",
    "    return count_edges(adjacency_matrix) / (vertice_amount * (vertice_amount -1))\n",
    "\n",
    "density(adjacency_matrix)"
   ]
  },
  {
   "cell_type": "markdown",
   "metadata": {},
   "source": [
    "### Degrees"
   ]
  },
  {
   "cell_type": "code",
   "execution_count": 32,
   "metadata": {},
   "outputs": [
    {
     "name": "stdout",
     "output_type": "stream",
     "text": [
      "full degrees: [3. 1. 1. 3.]\n",
      "in degrees: [1. 1. 0. 2.]\n",
      "out degrees: [2. 0. 1. 1.]\n"
     ]
    },
    {
     "data": {
      "image/png": "[encoded data removed]",
      "text/plain": [
       "<Figure size 432x288 with 1 Axes>"
      ]
     },
     "metadata": {},
     "output_type": "display_data"
    }
   ],
   "source": [
    "def degrees(matrix, mode=\"degree\"):\n",
    "    validmodes = [\"indegree\", \"outdegree\", \"degree\"]\n",
    "    if mode not in validmodes:\n",
    "        raise ValueError(f\"Invalid mode. Try one of {validmodes}\")\n",
    "    reject_if_not_ajmatrix(matrix)\n",
    "    accumulator = np.zeros((matrix.shape[0]))\n",
    "    for (i, j), value in np.ndenumerate(matrix):\n",
    "        if value > 0:\n",
    "            if mode == \"indegree\":\n",
    "                accumulator[j] += 1\n",
    "            if mode == \"outdegree\":\n",
    "                accumulator[i] += 1\n",
    "            if mode == \"degree\":\n",
    "                accumulator[i] += 1\n",
    "                accumulator[j] += 1\n",
    "    return accumulator\n",
    "\n",
    "print(f'full degrees: {degrees(adjacency_matrix)}')\n",
    "print(f'in degrees: {degrees(adjacency_matrix, mode = \"indegree\")}')\n",
    "print(f'out degrees: {degrees(adjacency_matrix, mode = \"outdegree\")}')\n",
    "nx.draw_networkx(digraph, pos=nx.kamada_kawai_layout(digraph))"
   ]
  },
  {
   "cell_type": "markdown",
   "metadata": {},
   "source": [
    "This looks like it checks out.\n",
    "### Symmetry\n",
    "Now we want to determine wether the graph represented by an adjacency matrix can be viewed as undirected. This is the case if the adjacency matrix is symmetric."
   ]
  },
  {
   "cell_type": "code",
   "execution_count": 38,
   "metadata": {},
   "outputs": [
    {
     "data": {
      "text/plain": [
       "False"
      ]
     },
     "execution_count": 38,
     "metadata": {},
     "output_type": "execute_result"
    }
   ],
   "source": [
    "def is_symmetrical(matrix):\n",
    "    reject_if_not_ajmatrix(matrix)\n",
    "    for i in range(matrix.shape[0]):\n",
    "        for j in range(0, i+1):\n",
    "            if not matrix[i, j] == matrix[j, i]:\n",
    "                return False\n",
    "    return True\n",
    "# Try it out with our directed asymmetrical graph\n",
    "is_symmetrical(adjacency_matrix)"
   ]
  },
  {
   "cell_type": "code",
   "execution_count": 39,
   "metadata": {},
   "outputs": [
    {
     "name": "stdout",
     "output_type": "stream",
     "text": [
      "[[0. 1. 1. 0.]\n",
      " [1. 0. 0. 0.]\n",
      " [1. 0. 0. 1.]\n",
      " [0. 0. 1. 0.]]\n",
      "Is this symmetrical? Answer: True\n"
     ]
    },
    {
     "data": {
      "image/png": "[encoded data removed]",
      "text/plain": [
       "<Figure size 432x288 with 1 Axes>"
      ]
     },
     "metadata": {},
     "output_type": "display_data"
    }
   ],
   "source": [
    "# Now we create a directed graph and it's matrix\n",
    "graph = nx.Graph()\n",
    "graph.add_edge(0, 1)\n",
    "graph.add_edge(0, 2)\n",
    "graph.add_edge(2, 3)\n",
    "\n",
    "symm_matrix = nx.to_numpy_matrix(graph)\n",
    "print(symm_matrix)\n",
    "print(f\"Is this symmetrical? Answer: {is_symmetrical(symm_matrix)}\")\n",
    "nx.draw_networkx(graph)\n",
    "\n"
   ]
  },
  {
   "cell_type": "markdown",
   "metadata": {},
   "source": [
    "## Assignment 2: Random Graph by Degree\n",
    "I will leave this assignment out for now, as I am not sure wether it serves my skills to analyze graphs, and am short on time."
   ]
  },
  {
   "cell_type": "markdown",
   "metadata": {},
   "source": [
    "## Assignment 3: Diameter of a Graph\n",
    "The diameter of a graph is the longest distance between any two nodes within the graph, distance meaning the length of the shortest path between two nodes.\n",
    "\n",
    "My approach is the assembly of a distance table, which holds the distance between each two nodes as determined by dijkstras algorithm, and then determining it's maximum entry.\n",
    "\n",
    "### Dijkstras Algorithm"
   ]
  },
  {
   "cell_type": "code",
   "execution_count": 46,
   "metadata": {},
   "outputs": [
    {
     "name": "stdout",
     "output_type": "stream",
     "text": [
      "distances from node 1: [ 0.  1. inf  1.]\n",
      "distances from node 2: [inf  0. inf inf]\n",
      "distances from node 3: [2. 3. 0. 1.]\n",
      "distances from node 4: [ 1.  2. inf  0.]\n"
     ]
    },
    {
     "data": {
      "image/png": "[encoded data removed]",
      "text/plain": [
       "<Figure size 432x288 with 1 Axes>"
      ]
     },
     "metadata": {},
     "output_type": "display_data"
    }
   ],
   "source": [
    "def dijkstras_shortest_paths(adj_matrix, start_index):\n",
    "    reject_if_not_ajmatrix(adjacency_matrix)\n",
    "    distances = np.full((adj_matrix.shape[0]), np.inf)\n",
    "    distances[start_index] = 0\n",
    "    neighbors = [start_index]\n",
    "    visited = np.full((adj_matrix.shape[0]), False)\n",
    "    while len(neighbors) != 0:\n",
    "        min_distance_neighbor = neighbors[0]\n",
    "        for i in neighbors:\n",
    "            if distances[i] < distances[min_distance_neighbor]:\n",
    "                min_distance_neighbor = i\n",
    "        treated_node = min_distance_neighbor\n",
    "        neighbors.remove(treated_node)\n",
    "        visited[treated_node] = True\n",
    "        for (i, j), value in np.ndenumerate(adj_matrix[treated_node]):\n",
    "            if value > 0 and not visited[j]:\n",
    "                neighbors.append(j)\n",
    "                distance_on_this_path = distances[treated_node] + value\n",
    "                if distance_on_this_path < distances[j]:\n",
    "                    distances[j] = distance_on_this_path\n",
    "    return distances\n",
    "\n",
    "print(f'distances from node 1: {dijkstras_shortest_paths(adjacency_matrix, 0)}')\n",
    "print(f'distances from node 2: {dijkstras_shortest_paths(adjacency_matrix, 1)}')\n",
    "print(f'distances from node 3: {dijkstras_shortest_paths(adjacency_matrix, 2)}')\n",
    "print(f'distances from node 4: {dijkstras_shortest_paths(adjacency_matrix, 3)}')\n",
    "nx.draw_networkx(digraph)\n",
    "\n"
   ]
  },
  {
   "cell_type": "markdown",
   "metadata": {},
   "source": [
    "Much like the output before, we can now create the distance table through one application per node of dijkstras algorithm."
   ]
  },
  {
   "cell_type": "code",
   "execution_count": 50,
   "metadata": {},
   "outputs": [],
   "source": [
    "def distance_matrix(adj_matrix):\n",
    "    reject_if_not_ajmatrix(adj_matrix)\n",
    "    distance_matrix = np.full_like(adj_matrix, np.inf)\n",
    "    for i in range(adj_matrix.shape[0]):\n",
    "        distance_matrix[i, :] = dijkstras_shortest_paths(adj_matrix, i)\n",
    "    return distance_matrix\n",
    "\n",
    "def diameter(adj_matrix):\n",
    "    return np.max(distance_matrix(adj_matrix))\n",
    "\n",
    "print(f' diametre of the digraph: {diameter(adjacency_matrix)}')"
   ]
  }
 ],
 "metadata": {
  "interpreter": {
   "hash": "3067ead486e059ec00ffe7555bdb889e6e264a24dc711bf108106cc7baee8d5d"
  },
  "kernelspec": {
   "display_name": "Python 3.8.12 ('base')",
   "language": "python",
   "name": "python3"
  },
  "language_info": {
   "codemirror_mode": {
    "name": "ipython",
    "version": 3
   },
   "file_extension": ".py",
   "mimetype": "text/x-python",
   "name": "python",
   "nbconvert_exporter": "python",
   "pygments_lexer": "ipython3",
   "version": "3.8.13"
  },
  "orig_nbformat": 4
 },
 "nbformat": 4,
 "nbformat_minor": 2
}
